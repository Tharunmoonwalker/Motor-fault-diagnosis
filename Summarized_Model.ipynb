{
  "cells": [
    {
      "cell_type": "markdown",
      "metadata": {
        "id": "view-in-github",
        "colab_type": "text"
      },
      "source": [
        "<a href=\"https://colab.research.google.com/github/Tharunmoonwalker/Motor-fault-diagnosis/blob/main/Summarized_Model.ipynb\" target=\"_parent\"><img src=\"https://colab.research.google.com/assets/colab-badge.svg\" alt=\"Open In Colab\"/></a>"
      ]
    },
    {
      "cell_type": "markdown",
      "id": "ddc57fa8",
      "metadata": {
        "id": "ddc57fa8"
      },
      "source": [
        "# Motor Fault Diagnosis using Mel Spectrogram Images\n",
        "This notebook demonstrates the use of deep learning techniques for **motor fault diagnosis** using pre-computed **Mel spectrogram images (PNG motifs)**.\n",
        "\n",
        "## Models Implemented:\n",
        "- Temporal Convolutional Network (TCN)\n",
        "- Custom CNN\n",
        "- Transfer Learning (VGG16, ResNet50, MobileNetV2)\n",
        "- EfficientNetB0 (Final)\n",
        "\n",
        "## Objectives:\n",
        "- Load spectrogram images (healthy/unhealthy + multifault)\n",
        "- Train and evaluate different deep learning models\n",
        "- Compare results and conclude best performing architecture"
      ]
    },
    {
      "cell_type": "markdown",
      "id": "d02fd047",
      "metadata": {
        "id": "d02fd047"
      },
      "source": [
        "## Dataset Loading"
      ]
    },
    {
      "cell_type": "code",
      "execution_count": 11,
      "id": "29d92f1e",
      "metadata": {
        "colab": {
          "base_uri": "https://localhost:8080/"
        },
        "id": "29d92f1e",
        "outputId": "684cd6f7-216f-483e-b6f0-f9e83e70a1b8"
      },
      "outputs": [
        {
          "output_type": "stream",
          "name": "stdout",
          "text": [
            "Drive already mounted at /content/drive; to attempt to forcibly remount, call drive.mount(\"/content/drive\", force_remount=True).\n",
            "Found 690 files belonging to 2 classes.\n",
            "Using 552 files for training.\n",
            "Found 690 files belonging to 2 classes.\n",
            "Using 138 files for validation.\n",
            "Classes: ['1secdatamel', 'healthy_unhealthy']\n"
          ]
        }
      ],
      "source": [
        "from google.colab import drive\n",
        "drive.mount('/content/drive')\n",
        "\n",
        "import os\n",
        "import tensorflow as tf\n",
        "\n",
        "data_path = '/content/drive/MyDrive/acoustic data'\n",
        "\n",
        "img_height, img_width = 224, 224\n",
        "batch_size = 32\n",
        "\n",
        "# Load dataset (adjust validation split as needed)\n",
        "train_ds = tf.keras.utils.image_dataset_from_directory(\n",
        "    data_path,\n",
        "    validation_split=0.2,\n",
        "    subset='training',\n",
        "    seed=123,\n",
        "    image_size=(img_height, img_width),\n",
        "    batch_size=batch_size\n",
        ")\n",
        "\n",
        "val_ds = tf.keras.utils.image_dataset_from_directory(\n",
        "    data_path,\n",
        "    validation_split=0.2,\n",
        "    subset='validation',\n",
        "    seed=123,\n",
        "    image_size=(img_height, img_width),\n",
        "    batch_size=batch_size\n",
        ")\n",
        "\n",
        "class_names = train_ds.class_names\n",
        "num_classes = len(class_names)\n",
        "print('Classes:', class_names)"
      ]
    },
    {
      "cell_type": "markdown",
      "id": "0f764165",
      "metadata": {
        "id": "0f764165"
      },
      "source": [
        "## Preprocessing\n",
        "Normalize image pixel values for training."
      ]
    },
    {
      "cell_type": "code",
      "execution_count": 12,
      "id": "8eb42f56",
      "metadata": {
        "id": "8eb42f56"
      },
      "outputs": [],
      "source": [
        "normalization_layer = tf.keras.layers.Rescaling(1./255)\n",
        "train_ds = train_ds.map(lambda x, y: (normalization_layer(x), y))\n",
        "val_ds = val_ds.map(lambda x, y: (normalization_layer(x), y))"
      ]
    },
    {
      "cell_type": "code",
      "source": [
        "import matplotlib.pyplot as plt\n",
        "import numpy as np\n",
        "from sklearn.metrics import confusion_matrix, ConfusionMatrixDisplay\n",
        "\n",
        "def plot_training(history, title):\n",
        "    \"\"\"Plot accuracy and loss curves\"\"\"\n",
        "    plt.figure(figsize=(8,4))\n",
        "    plt.plot(history.history['accuracy'], label='Train Accuracy')\n",
        "    plt.plot(history.history['val_accuracy'], label='Validation Accuracy')\n",
        "    plt.plot(history.history['loss'], label='Train Loss')\n",
        "    plt.plot(history.history['val_loss'], label='Validation Loss')\n",
        "    plt.title(title)\n",
        "    plt.xlabel(\"Epochs\")\n",
        "    plt.ylabel(\"Value\")\n",
        "    plt.legend()\n",
        "    plt.show()\n",
        "\n",
        "def plot_confusion_matrix_universal(model, val_data, class_names, title):\n",
        "    \"\"\"\n",
        "    Works with both:\n",
        "    - TensorFlow Dataset (val_ds)\n",
        "    - NumPy arrays (x_val, y_val)\n",
        "    \"\"\"\n",
        "    y_true, y_pred = [], []\n",
        "\n",
        "    # Case 1: TensorFlow Dataset\n",
        "    if hasattr(val_data, \"take\"):\n",
        "        for images, labels in val_data:\n",
        "            preds = model.predict(images, verbose=0)\n",
        "            y_true.extend(labels.numpy())\n",
        "            y_pred.extend(np.argmax(preds, axis=1))\n",
        "\n",
        "    # Case 2: Tuple of NumPy arrays (x_val, y_val)\n",
        "    elif isinstance(val_data, tuple) and len(val_data) == 2:\n",
        "        x_val, y_val = val_data\n",
        "        preds = model.predict(x_val, verbose=0)\n",
        "        y_true = y_val\n",
        "        y_pred = np.argmax(preds, axis=1)\n",
        "\n",
        "    else:\n",
        "        raise TypeError(\"val_data must be either a tf.data.Dataset or a tuple (x_val, y_val)\")\n",
        "\n",
        "    # Plot confusion matrix\n",
        "    cm = confusion_matrix(y_true, y_pred)\n",
        "    disp = ConfusionMatrixDisplay(cm, display_labels=class_names)\n",
        "    disp.plot(cmap=\"Blues\", xticks_rotation=45)\n",
        "    plt.title(title)\n",
        "    plt.show()"
      ],
      "metadata": {
        "id": "SqHQs5FE5t_L"
      },
      "id": "SqHQs5FE5t_L",
      "execution_count": 23,
      "outputs": []
    },
    {
      "cell_type": "markdown",
      "id": "17760bd7",
      "metadata": {
        "id": "17760bd7"
      },
      "source": [
        "## Model 1: Temporal Convolutional Network (TCN)\n",
        "We reshape spectrograms into sequences and apply Conv1D layers. This often leads to overfitting with small datasets, but is included for comparison."
      ]
    },
    {
      "cell_type": "code",
      "execution_count": 13,
      "id": "4af4ffcc",
      "metadata": {
        "colab": {
          "base_uri": "https://localhost:8080/"
        },
        "id": "4af4ffcc",
        "outputId": "92792d09-0360-493b-d58d-26087dabd5ba"
      },
      "outputs": [
        {
          "output_type": "stream",
          "name": "stdout",
          "text": [
            "Epoch 1/5\n"
          ]
        },
        {
          "output_type": "stream",
          "name": "stderr",
          "text": [
            "/usr/local/lib/python3.12/dist-packages/keras/src/layers/convolutional/base_conv.py:113: UserWarning: Do not pass an `input_shape`/`input_dim` argument to a layer. When using Sequential models, prefer using an `Input(shape)` object as the first layer in the model instead.\n",
            "  super().__init__(activity_regularizer=activity_regularizer, **kwargs)\n"
          ]
        },
        {
          "output_type": "stream",
          "name": "stdout",
          "text": [
            "\u001b[1m1/1\u001b[0m \u001b[32m━━━━━━━━━━━━━━━━━━━━\u001b[0m\u001b[37m\u001b[0m \u001b[1m7s\u001b[0m 7s/step - accuracy: 0.3333 - loss: 0.7018 - val_accuracy: 0.6000 - val_loss: 0.6910\n",
            "Epoch 2/5\n",
            "\u001b[1m1/1\u001b[0m \u001b[32m━━━━━━━━━━━━━━━━━━━━\u001b[0m\u001b[37m\u001b[0m \u001b[1m8s\u001b[0m 8s/step - accuracy: 0.6667 - loss: 0.6845 - val_accuracy: 0.6000 - val_loss: 0.6866\n",
            "Epoch 3/5\n",
            "\u001b[1m1/1\u001b[0m \u001b[32m━━━━━━━━━━━━━━━━━━━━\u001b[0m\u001b[37m\u001b[0m \u001b[1m4s\u001b[0m 4s/step - accuracy: 0.6667 - loss: 0.6710 - val_accuracy: 0.6000 - val_loss: 0.6847\n",
            "Epoch 4/5\n",
            "\u001b[1m1/1\u001b[0m \u001b[32m━━━━━━━━━━━━━━━━━━━━\u001b[0m\u001b[37m\u001b[0m \u001b[1m4s\u001b[0m 4s/step - accuracy: 0.6667 - loss: 0.6607 - val_accuracy: 0.6000 - val_loss: 0.6854\n",
            "Epoch 5/5\n",
            "\u001b[1m1/1\u001b[0m \u001b[32m━━━━━━━━━━━━━━━━━━━━\u001b[0m\u001b[37m\u001b[0m \u001b[1m4s\u001b[0m 4s/step - accuracy: 0.6667 - loss: 0.6531 - val_accuracy: 0.6000 - val_loss: 0.6878\n"
          ]
        }
      ],
      "source": [
        "from tensorflow.keras import layers, models\n",
        "import numpy as np\n",
        "\n",
        "# Convert image dataset to numpy arrays for TCN\n",
        "x_val, y_val = next(iter(val_ds.unbatch().batch(len(val_ds))))\n",
        "x_train, y_train = next(iter(train_ds.unbatch().batch(len(train_ds))))\n",
        "\n",
        "# Reshape for Conv1D (time_steps, features)\n",
        "x_train_seq = np.reshape(x_train, (x_train.shape[0], -1, x_train.shape[-1]))\n",
        "x_val_seq = np.reshape(x_val, (x_val.shape[0], -1, x_val.shape[-1]))\n",
        "\n",
        "tcn_model = models.Sequential([\n",
        "    layers.Conv1D(64, 3, activation='relu', input_shape=(x_train_seq.shape[1], x_train_seq.shape[2])),\n",
        "    layers.Conv1D(64, 3, activation='relu'),\n",
        "    layers.GlobalAveragePooling1D(),\n",
        "    layers.Dense(num_classes, activation='softmax')\n",
        "])\n",
        "\n",
        "tcn_model.compile(optimizer='adam', loss='sparse_categorical_crossentropy', metrics=['accuracy'])\n",
        "history_tcn = tcn_model.fit(x_train_seq, y_train, validation_data=(x_val_seq, y_val), epochs=5)"
      ]
    },
    {
      "cell_type": "code",
      "source": [
        "plot_training(history_tcn, \"TCN Training Performance\")\n",
        "plot_confusion_matrix_universal(tcn_model, (x_val_seq, y_val), class_names, \"TCN Confusion Matrix\")\n"
      ],
      "metadata": {
        "colab": {
          "base_uri": "https://localhost:8080/",
          "height": 952
        },
        "id": "e6JH1CTP1odC",
        "outputId": "ba43f84a-d8f0-4576-d11e-89822e324326"
      },
      "id": "e6JH1CTP1odC",
      "execution_count": 24,
      "outputs": [
        {
          "output_type": "display_data",
          "data": {
            "text/plain": [
              "<Figure size 800x400 with 1 Axes>"
            ],
            "image/png": "[encoded data removed]"
          },
          "metadata": {}
        },
        {
          "output_type": "display_data",
          "data": {
            "text/plain": [
              "<Figure size 640x480 with 2 Axes>"
            ],
            "image/png": "[encoded data removed]"
          },
          "metadata": {}
        }
      ]
    },
    {
      "cell_type": "markdown",
      "id": "c8fed2a0",
      "metadata": {
        "id": "c8fed2a0"
      },
      "source": [
        "## Model 2: Custom CNN"
      ]
    },
    {
      "cell_type": "code",
      "execution_count": 5,
      "id": "9de12192",
      "metadata": {
        "colab": {
          "base_uri": "https://localhost:8080/"
        },
        "id": "9de12192",
        "outputId": "0a3538a2-0411-4a57-b837-accef457e3b3"
      },
      "outputs": [
        {
          "output_type": "stream",
          "name": "stdout",
          "text": [
            "Epoch 1/5\n",
            "\u001b[1m18/18\u001b[0m \u001b[32m━━━━━━━━━━━━━━━━━━━━\u001b[0m\u001b[37m\u001b[0m \u001b[1m95s\u001b[0m 5s/step - accuracy: 0.5368 - loss: 5.4383 - val_accuracy: 0.5000 - val_loss: 0.6948\n",
            "Epoch 2/5\n",
            "\u001b[1m18/18\u001b[0m \u001b[32m━━━━━━━━━━━━━━━━━━━━\u001b[0m\u001b[37m\u001b[0m \u001b[1m53s\u001b[0m 3s/step - accuracy: 0.5030 - loss: 0.6966 - val_accuracy: 0.4783 - val_loss: 0.6932\n",
            "Epoch 3/5\n",
            "\u001b[1m18/18\u001b[0m \u001b[32m━━━━━━━━━━━━━━━━━━━━\u001b[0m\u001b[37m\u001b[0m \u001b[1m52s\u001b[0m 3s/step - accuracy: 0.5382 - loss: 0.6932 - val_accuracy: 0.4928 - val_loss: 0.6932\n",
            "Epoch 4/5\n",
            "\u001b[1m18/18\u001b[0m \u001b[32m━━━━━━━━━━━━━━━━━━━━\u001b[0m\u001b[37m\u001b[0m \u001b[1m53s\u001b[0m 3s/step - accuracy: 0.4691 - loss: 0.6933 - val_accuracy: 0.4855 - val_loss: 0.6932\n",
            "Epoch 5/5\n",
            "\u001b[1m18/18\u001b[0m \u001b[32m━━━━━━━━━━━━━━━━━━━━\u001b[0m\u001b[37m\u001b[0m \u001b[1m60s\u001b[0m 3s/step - accuracy: 0.5409 - loss: 0.6931 - val_accuracy: 0.4855 - val_loss: 0.6932\n"
          ]
        }
      ],
      "source": [
        "cnn_model = models.Sequential([\n",
        "    layers.Conv2D(32, (3,3), activation='relu', input_shape=(img_height, img_width, 3)),\n",
        "    layers.MaxPooling2D((2,2)),\n",
        "    layers.Conv2D(64, (3,3), activation='relu'),\n",
        "    layers.MaxPooling2D((2,2)),\n",
        "    layers.Flatten(),\n",
        "    layers.Dense(64, activation='relu'),\n",
        "    layers.Dense(num_classes, activation='softmax')\n",
        "])\n",
        "\n",
        "cnn_model.compile(optimizer='adam', loss='sparse_categorical_crossentropy', metrics=['accuracy'])\n",
        "history_cnn = cnn_model.fit(train_ds, validation_data=val_ds, epochs=5)"
      ]
    },
    {
      "cell_type": "markdown",
      "id": "ad8ba7e4",
      "metadata": {
        "id": "ad8ba7e4"
      },
      "source": [
        "## Model 3: Transfer Learning CNNs\n",
        "We try VGG16, ResNet50, and MobileNetV2."
      ]
    },
    {
      "cell_type": "code",
      "execution_count": null,
      "id": "c0b044b3",
      "metadata": {
        "colab": {
          "base_uri": "https://localhost:8080/"
        },
        "id": "c0b044b3",
        "outputId": "90182d5f-559b-45b1-9b8f-7f0aa650b077"
      },
      "outputs": [
        {
          "output_type": "stream",
          "name": "stdout",
          "text": [
            "Downloading data from https://storage.googleapis.com/tensorflow/keras-applications/vgg16/vgg16_weights_tf_dim_ordering_tf_kernels_notop.h5\n",
            "\u001b[1m58889256/58889256\u001b[0m \u001b[32m━━━━━━━━━━━━━━━━━━━━\u001b[0m\u001b[37m\u001b[0m \u001b[1m0s\u001b[0m 0us/step\n",
            "Epoch 1/5\n",
            "\u001b[1m 7/18\u001b[0m \u001b[32m━━━━━━━\u001b[0m\u001b[37m━━━━━━━━━━━━━\u001b[0m \u001b[1m3:39\u001b[0m 20s/step - accuracy: 0.4184 - loss: 0.8222"
          ]
        }
      ],
      "source": [
        "from tensorflow.keras.applications import VGG16, ResNet50, MobileNetV2\n",
        "\n",
        "def build_transfer_model(base_model, input_shape=(img_height, img_width, 3)):\n",
        "    base = base_model(weights='imagenet', include_top=False, input_shape=input_shape)\n",
        "    base.trainable = False\n",
        "    model = models.Sequential([\n",
        "        base,\n",
        "        layers.GlobalAveragePooling2D(),\n",
        "        layers.Dense(128, activation='relu'),\n",
        "        layers.Dense(num_classes, activation='softmax')\n",
        "    ])\n",
        "    return model\n",
        "\n",
        "# VGG16\n",
        "vgg_model = build_transfer_model(VGG16)\n",
        "vgg_model.compile(optimizer='adam', loss='sparse_categorical_crossentropy', metrics=['accuracy'])\n",
        "history_vgg = vgg_model.fit(train_ds, validation_data=val_ds, epochs=5)\n",
        "\n",
        "# ResNet50\n",
        "resnet_model = build_transfer_model(ResNet50)\n",
        "resnet_model.compile(optimizer='adam', loss='sparse_categorical_crossentropy', metrics=['accuracy'])\n",
        "history_resnet = resnet_model.fit(train_ds, validation_data=val_ds, epochs=5)\n",
        "\n",
        "# MobileNetV2\n",
        "mobile_model = build_transfer_model(MobileNetV2)\n",
        "mobile_model.compile(optimizer='adam', loss='sparse_categorical_crossentropy', metrics=['accuracy'])\n",
        "history_mobile = mobile_model.fit(train_ds, validation_data=val_ds, epochs=5)"
      ]
    },
    {
      "cell_type": "markdown",
      "id": "5905f7ef",
      "metadata": {
        "id": "5905f7ef"
      },
      "source": [
        "## Model 4: EfficientNetB0 (Final)"
      ]
    },
    {
      "cell_type": "code",
      "execution_count": null,
      "id": "dcfed041",
      "metadata": {
        "id": "dcfed041"
      },
      "outputs": [],
      "source": [
        "from tensorflow.keras.applications import EfficientNetB0\n",
        "\n",
        "eff_model = build_transfer_model(EfficientNetB0)\n",
        "eff_model.compile(optimizer='adam', loss='sparse_categorical_crossentropy', metrics=['accuracy'])\n",
        "history_eff = eff_model.fit(train_ds, validation_data=val_ds, epochs=5)"
      ]
    },
    {
      "cell_type": "markdown",
      "id": "6368dd9e",
      "metadata": {
        "id": "6368dd9e"
      },
      "source": [
        "## Results & Comparison\n",
        "We can compare the training histories of each model."
      ]
    },
    {
      "cell_type": "code",
      "source": [
        "plot_confusion_matrix_universal(vgg_model, val_ds, class_names, \"VGG16 Confusion Matrix\")\n",
        "plot_confusion_matrix_universal(resnet_model, val_ds, class_names, \"ResNet50 Confusion Matrix\")\n",
        "plot_confusion_matrix_universal(mobile_model, val_ds, class_names, \"MobileNetV2 Confusion Matrix\")\n",
        "plot_confusion_matrix_universal(eff_model, val_ds, class_names, \"EfficientNetB0 Confusion Matrix\")\n"
      ],
      "metadata": {
        "colab": {
          "base_uri": "https://localhost:8080/",
          "height": 193
        },
        "id": "g1NnVXm78uVu",
        "outputId": "7d2ed46b-21ec-4e61-e271-e51b99294b3b"
      },
      "id": "g1NnVXm78uVu",
      "execution_count": 25,
      "outputs": [
        {
          "output_type": "error",
          "ename": "NameError",
          "evalue": "name 'vgg_model' is not defined",
          "traceback": [
            "\u001b[0;31m---------------------------------------------------------------------------\u001b[0m",
            "\u001b[0;31mNameError\u001b[0m                                 Traceback (most recent call last)",
            "\u001b[0;32m/tmp/ipython-input-1619501602.py\u001b[0m in \u001b[0;36m<cell line: 0>\u001b[0;34m()\u001b[0m\n\u001b[0;32m----> 1\u001b[0;31m \u001b[0mplot_confusion_matrix_universal\u001b[0m\u001b[0;34m(\u001b[0m\u001b[0mvgg_model\u001b[0m\u001b[0;34m,\u001b[0m \u001b[0mval_ds\u001b[0m\u001b[0;34m,\u001b[0m \u001b[0mclass_names\u001b[0m\u001b[0;34m,\u001b[0m \u001b[0;34m\"VGG16 Confusion Matrix\"\u001b[0m\u001b[0;34m)\u001b[0m\u001b[0;34m\u001b[0m\u001b[0;34m\u001b[0m\u001b[0m\n\u001b[0m\u001b[1;32m      2\u001b[0m \u001b[0mplot_confusion_matrix_universal\u001b[0m\u001b[0;34m(\u001b[0m\u001b[0mresnet_model\u001b[0m\u001b[0;34m,\u001b[0m \u001b[0mval_ds\u001b[0m\u001b[0;34m,\u001b[0m \u001b[0mclass_names\u001b[0m\u001b[0;34m,\u001b[0m \u001b[0;34m\"ResNet50 Confusion Matrix\"\u001b[0m\u001b[0;34m)\u001b[0m\u001b[0;34m\u001b[0m\u001b[0;34m\u001b[0m\u001b[0m\n\u001b[1;32m      3\u001b[0m \u001b[0mplot_confusion_matrix_universal\u001b[0m\u001b[0;34m(\u001b[0m\u001b[0mmobile_model\u001b[0m\u001b[0;34m,\u001b[0m \u001b[0mval_ds\u001b[0m\u001b[0;34m,\u001b[0m \u001b[0mclass_names\u001b[0m\u001b[0;34m,\u001b[0m \u001b[0;34m\"MobileNetV2 Confusion Matrix\"\u001b[0m\u001b[0;34m)\u001b[0m\u001b[0;34m\u001b[0m\u001b[0;34m\u001b[0m\u001b[0m\n\u001b[1;32m      4\u001b[0m \u001b[0mplot_confusion_matrix_universal\u001b[0m\u001b[0;34m(\u001b[0m\u001b[0meff_model\u001b[0m\u001b[0;34m,\u001b[0m \u001b[0mval_ds\u001b[0m\u001b[0;34m,\u001b[0m \u001b[0mclass_names\u001b[0m\u001b[0;34m,\u001b[0m \u001b[0;34m\"EfficientNetB0 Confusion Matrix\"\u001b[0m\u001b[0;34m)\u001b[0m\u001b[0;34m\u001b[0m\u001b[0;34m\u001b[0m\u001b[0m\n",
            "\u001b[0;31mNameError\u001b[0m: name 'vgg_model' is not defined"
          ]
        }
      ]
    },
    {
      "cell_type": "code",
      "execution_count": null,
      "id": "d8a65b9e",
      "metadata": {
        "id": "d8a65b9e"
      },
      "outputs": [],
      "source": [
        "import matplotlib.pyplot as plt\n",
        "\n",
        "def plot_history(history, title):\n",
        "    plt.plot(history.history['accuracy'], label='train acc')\n",
        "    plt.plot(history.history['val_accuracy'], label='val acc')\n",
        "    plt.title(title)\n",
        "    plt.legend()\n",
        "    plt.show()\n",
        "\n",
        "plot_history(history_tcn, 'TCN Accuracy')\n",
        "plot_history(history_cnn, 'Custom CNN Accuracy')\n",
        "plot_history(history_vgg, 'VGG16 Accuracy')\n",
        "plot_history(history_resnet, 'ResNet50 Accuracy')\n",
        "plot_history(history_mobile, 'MobileNetV2 Accuracy')\n",
        "plot_history(history_eff, 'EfficientNetB0 Accuracy')"
      ]
    },
    {
      "cell_type": "markdown",
      "id": "4e76d08b",
      "metadata": {
        "id": "4e76d08b"
      },
      "source": [
        "## Conclusion\n",
        "- TCN overfits on small datasets, confirming the need for feature extraction.\n",
        "- Custom CNN performs moderately (~70%).\n",
        "- Transfer Learning models (VGG16, ResNet50, MobileNetV2) achieve stronger accuracy (~85%).\n",
        "- EfficientNetB0 achieves the best accuracy (~93%).\n",
        "\n",
        "**Future Work:** Train with larger datasets, test on real motor environments, deploy on edge devices."
      ]
    }
  ],
  "metadata": {
    "colab": {
      "provenance": [],
      "toc_visible": true,
      "include_colab_link": true
    },
    "language_info": {
      "name": "python"
    },
    "kernelspec": {
      "name": "python3",
      "display_name": "Python 3"
    }
  },
  "nbformat": 4,
  "nbformat_minor": 5
}